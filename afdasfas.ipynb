{
 "cells": [
  {
   "cell_type": "code",
   "execution_count": 1,
   "metadata": {},
   "outputs": [
    {
     "name": "stdout",
     "output_type": "stream",
     "text": [
      "Requirement already satisfied: pandas in /Library/Frameworks/Python.framework/Versions/3.9/lib/python3.9/site-packages (1.5.1)\n",
      "Requirement already satisfied: pytz>=2020.1 in /Users/asharfarooq/Library/Python/3.9/lib/python/site-packages (from pandas) (2021.1)\n",
      "Requirement already satisfied: numpy>=1.20.3 in /Library/Frameworks/Python.framework/Versions/3.9/lib/python3.9/site-packages (from pandas) (1.21.0)\n",
      "Requirement already satisfied: python-dateutil>=2.8.1 in /Users/asharfarooq/Library/Python/3.9/lib/python/site-packages (from pandas) (2.8.2)\n",
      "Requirement already satisfied: six>=1.5 in /Users/asharfarooq/Library/Python/3.9/lib/python/site-packages (from python-dateutil>=2.8.1->pandas) (1.16.0)\n",
      "\u001b[33mWARNING: You are using pip version 21.1.1; however, version 22.3.1 is available.\n",
      "You should consider upgrading via the '/usr/local/bin/python3 -m pip install --upgrade pip' command.\u001b[0m\n",
      "Note: you may need to restart the kernel to use updated packages.\n",
      "Requirement already satisfied: numpy in /Library/Frameworks/Python.framework/Versions/3.9/lib/python3.9/site-packages (1.21.0)\n",
      "\u001b[33mWARNING: You are using pip version 21.1.1; however, version 22.3.1 is available.\n",
      "You should consider upgrading via the '/usr/local/bin/python3 -m pip install --upgrade pip' command.\u001b[0m\n",
      "Note: you may need to restart the kernel to use updated packages.\n",
      "Requirement already satisfied: rouge-score in /Library/Frameworks/Python.framework/Versions/3.9/lib/python3.9/site-packages (0.1.2)\n",
      "Requirement already satisfied: six>=1.14.0 in /Users/asharfarooq/Library/Python/3.9/lib/python/site-packages (from rouge-score) (1.16.0)\n",
      "Requirement already satisfied: absl-py in /Library/Frameworks/Python.framework/Versions/3.9/lib/python3.9/site-packages (from rouge-score) (1.3.0)\n",
      "Requirement already satisfied: nltk in /Library/Frameworks/Python.framework/Versions/3.9/lib/python3.9/site-packages (from rouge-score) (3.6.2)\n",
      "Requirement already satisfied: numpy in /Library/Frameworks/Python.framework/Versions/3.9/lib/python3.9/site-packages (from rouge-score) (1.21.0)\n",
      "Requirement already satisfied: regex in /Users/asharfarooq/Library/Python/3.9/lib/python/site-packages (from nltk->rouge-score) (2021.4.4)\n",
      "Requirement already satisfied: tqdm in /Library/Frameworks/Python.framework/Versions/3.9/lib/python3.9/site-packages (from nltk->rouge-score) (4.62.0)\n",
      "Requirement already satisfied: joblib in /Library/Frameworks/Python.framework/Versions/3.9/lib/python3.9/site-packages (from nltk->rouge-score) (1.0.1)\n",
      "Requirement already satisfied: click in /Library/Frameworks/Python.framework/Versions/3.9/lib/python3.9/site-packages (from nltk->rouge-score) (7.1.2)\n",
      "\u001b[33mWARNING: You are using pip version 21.1.1; however, version 22.3.1 is available.\n",
      "You should consider upgrading via the '/usr/local/bin/python3 -m pip install --upgrade pip' command.\u001b[0m\n",
      "Note: you may need to restart the kernel to use updated packages.\n",
      "Requirement already satisfied: matplotlib in /Library/Frameworks/Python.framework/Versions/3.9/lib/python3.9/site-packages (3.4.2)\n",
      "Requirement already satisfied: pillow>=6.2.0 in /Library/Frameworks/Python.framework/Versions/3.9/lib/python3.9/site-packages (from matplotlib) (8.2.0)\n",
      "Requirement already satisfied: cycler>=0.10 in /Library/Frameworks/Python.framework/Versions/3.9/lib/python3.9/site-packages (from matplotlib) (0.10.0)\n",
      "Requirement already satisfied: numpy>=1.16 in /Library/Frameworks/Python.framework/Versions/3.9/lib/python3.9/site-packages (from matplotlib) (1.21.0)\n",
      "Requirement already satisfied: pyparsing>=2.2.1 in /Library/Frameworks/Python.framework/Versions/3.9/lib/python3.9/site-packages (from matplotlib) (2.4.7)\n",
      "Requirement already satisfied: python-dateutil>=2.7 in /Users/asharfarooq/Library/Python/3.9/lib/python/site-packages (from matplotlib) (2.8.2)\n",
      "Requirement already satisfied: kiwisolver>=1.0.1 in /Library/Frameworks/Python.framework/Versions/3.9/lib/python3.9/site-packages (from matplotlib) (1.3.1)\n",
      "Requirement already satisfied: six in /Users/asharfarooq/Library/Python/3.9/lib/python/site-packages (from cycler>=0.10->matplotlib) (1.16.0)\n",
      "\u001b[33mWARNING: You are using pip version 21.1.1; however, version 22.3.1 is available.\n",
      "You should consider upgrading via the '/usr/local/bin/python3 -m pip install --upgrade pip' command.\u001b[0m\n",
      "Note: you may need to restart the kernel to use updated packages.\n"
     ]
    }
   ],
   "source": [
    "%pip install pandas\n",
    "%pip install numpy\n",
    "%pip install rouge-score\n",
    "%pip install matplotlib"
   ]
  },
  {
   "cell_type": "code",
   "execution_count": 2,
   "metadata": {},
   "outputs": [],
   "source": [
    "import pandas as pd\n",
    "import numpy as np\n",
    "import matplotlib.pyplot as plt\n",
    "from rouge_score import rouge_scorer\n"
   ]
  },
  {
   "cell_type": "code",
   "execution_count": 3,
   "metadata": {},
   "outputs": [],
   "source": [
    "ground_truth = [\"Though it may seem like just another Harry Potter knockoff, Percy Jackson benefits from a strong supporting cast, a speedy plot, and plenty of fun with Greek mythology.\"]"
   ]
  },
  {
   "cell_type": "code",
   "execution_count": 4,
   "metadata": {},
   "outputs": [],
   "source": [
    "hypotheses = [\"\"\"teens\n",
    "An attempt to steal some of Harry Potter's thunder that also stands on its own as a well-made large-scale adventure that works well enough to entertain the teens it's hoping to strike.\n",
    "No reviews for this cluster\n",
    "magic\n",
    "This action-packed fantasy adventure, based on Rick Riordan's hit Percy Jackson and the Olympians series of books, is great fun, and deserves to find an audience with teens now bereft of any Harry Potter magic.\n",
    "The best thing you can say about Chris Columbus's adaptation is that he's incapable of destroying whatever magic and wonder it is in these books that has kept kids coming back for more.\n",
    "books\n",
    "This action-packed fantasy adventure, based on Rick Riordan's hit Percy Jackson and the Olympians series of books, is great fun, and deserves to find an audience with teens now bereft of any Harry Potter magic.\n",
    "The best thing you can say about Chris Columbus's adaptation is that he's incapable of destroying whatever magic and wonder it is in these books that has kept kids coming back for more.\n",
    "mythology\n",
    "Imperfect, yes, but also both suitably imaginative and entertaining. Works as action-adventure razzle-dazzle, coming-of-age tale, and beginners' lesson on Greek mythology.\n",
    "No reviews for this cluster\n",
    "thing\n",
    "Crammed with dragons, set-destroying fights and things exploding, [Columbus] squeezes in a few well-meaning pause breaks about friendship and absent fathers before swiftly moving on to the next pyrotechnics display.\n",
    "What's really lacking in The Lightning Thief is a genuine sense of wonder, the same thing that brings viewers back to Hogwarts over and over again.\n",
    "movie\n",
    "Admirably, the movie isn't bogged down in the exposition common to first entries, but at the end, it's a franchise searching for its voice.\n",
    "Although the standard allegorical bases for mythical-quest movies are dutifully covered, the obvious similarity of Percy Jackson to the Harry Potter movies inevitably makes it feel somewhat secondhand.\n",
    "adventure\n",
    "This action-packed fantasy adventure, based on Rick Riordan's hit Percy Jackson and the Olympians series of books, is great fun, and deserves to find an audience with teens now bereft of any Harry Potter magic.\n",
    "No reviews for this cluster\"\"\"]"
   ]
  },
  {
   "cell_type": "code",
   "execution_count": 13,
   "metadata": {},
   "outputs": [
    {
     "name": "stdout",
     "output_type": "stream",
     "text": [
      "all_scores_obj\n",
      "{'rouge1': Score(precision=0.4642857142857143, recall=0.03439153439153439, fmeasure=0.06403940886699507), 'rouge2': Score(precision=0.1111111111111111, recall=0.007957559681697613, fmeasure=0.01485148514851485)}\n"
     ]
    }
   ],
   "source": [
    "scorer = rouge_scorer.RougeScorer(['rouge1', 'rouge2'], use_stemmer=True)\n",
    "\n",
    "#running the ROUGE evaluation for certain subset of ground truth and hypothesis pairs\n",
    "num_of_iterations = 1\n",
    "all_rouges_1_scores = []\n",
    "all_rouges_2_scores = []\n",
    "for i in range(num_of_iterations):\n",
    "    all_scores_obj = scorer.score(hypotheses[i], ground_truth[i])\n",
    "    print(\"all_scores_obj\")\n",
    "    print(all_scores_obj)\n",
    "    all_rouges_1_scores.append(all_scores_obj[\"rouge1\"])\n",
    "    all_rouges_2_scores.append(all_scores_obj[\"rouge2\"])"
   ]
  },
  {
   "cell_type": "code",
   "execution_count": 12,
   "metadata": {},
   "outputs": [],
   "source": [
    "# building up metric results for Rouge 1\n",
    "\n",
    "rouge_1_precisions = []\n",
    "rouge_1_recall = []\n",
    "rouge_1_f1 = []\n",
    "for each_rouge_1_score in all_rouges_1_scores:\n",
    "    rouge_1_precisions.append(each_rouge_1_score.precision)\n",
    "    rouge_1_recall.append(each_rouge_1_score.recall)\n",
    "    rouge_1_f1.append(each_rouge_1_score.fmeasure)"
   ]
  },
  {
   "cell_type": "code",
   "execution_count": 8,
   "metadata": {},
   "outputs": [
    {
     "name": "stdout",
     "output_type": "stream",
     "text": [
      "The average precision value for the rouge 1 scores is 0.4642857142857143\n",
      "The average recall value for the rouge 1 scores is 0.03439153439153439\n",
      "The average f1 value for the rouge 1 scores is 0.06403940886699507\n"
     ]
    }
   ],
   "source": [
    "# analyzing rouge 1 results\n",
    "\n",
    "avg_rouge_1_precision_score = np.average(rouge_1_precisions)\n",
    "avg_rouge_1_recall_score = np.average(rouge_1_recall)\n",
    "avg_rouge_1_f1_score = np.average(rouge_1_f1)\n",
    "\n",
    "print(f'The average precision value for the rouge 1 scores is {avg_rouge_1_precision_score}')\n",
    "print(f'The average recall value for the rouge 1 scores is {avg_rouge_1_recall_score}')\n",
    "print(f'The average f1 value for the rouge 1 scores is {avg_rouge_1_f1_score}')"
   ]
  },
  {
   "cell_type": "code",
   "execution_count": 9,
   "metadata": {},
   "outputs": [],
   "source": [
    "# building up metric results for Rouge 2\n",
    "\n",
    "rouge_2_precisions = []\n",
    "rouge_2_recall = []\n",
    "rouge_2_f1 = []\n",
    "for each_rouge_2_score in all_rouges_2_scores:\n",
    "    rouge_2_precisions.append(each_rouge_2_score.precision)\n",
    "    rouge_2_recall.append(each_rouge_2_score.recall)\n",
    "    rouge_2_f1.append(each_rouge_2_score.fmeasure)"
   ]
  },
  {
   "cell_type": "code",
   "execution_count": 10,
   "metadata": {},
   "outputs": [
    {
     "name": "stdout",
     "output_type": "stream",
     "text": [
      "The average precision value for the rouge 2 scores is 0.1111111111111111\n",
      "The average recall value for the rouge 2 scores is 0.007957559681697613\n",
      "The average f1 value for the rouge 2 scores is 0.01485148514851485\n"
     ]
    }
   ],
   "source": [
    "# analyzing rouge 2 results\n",
    "\n",
    "avg_rouge_2_precision_score = np.average(rouge_2_precisions)\n",
    "avg_rouge_2_recall_score = np.average(rouge_2_recall)\n",
    "avg_rouge_2_f1_score = np.average(rouge_2_f1)\n",
    "\n",
    "print(f'The average precision value for the rouge 2 scores is {avg_rouge_2_precision_score}')\n",
    "print(f'The average recall value for the rouge 2 scores is {avg_rouge_2_recall_score}')\n",
    "print(f'The average f1 value for the rouge 2 scores is {avg_rouge_2_f1_score}')"
   ]
  }
 ],
 "metadata": {
  "kernelspec": {
   "display_name": "Python 3.9.5 64-bit",
   "language": "python",
   "name": "python3"
  },
  "language_info": {
   "codemirror_mode": {
    "name": "ipython",
    "version": 3
   },
   "file_extension": ".py",
   "mimetype": "text/x-python",
   "name": "python",
   "nbconvert_exporter": "python",
   "pygments_lexer": "ipython3",
   "version": "3.9.5"
  },
  "orig_nbformat": 4,
  "vscode": {
   "interpreter": {
    "hash": "aee8b7b246df8f9039afb4144a1f6fd8d2ca17a180786b69acc140d282b71a49"
   }
  }
 },
 "nbformat": 4,
 "nbformat_minor": 2
}
