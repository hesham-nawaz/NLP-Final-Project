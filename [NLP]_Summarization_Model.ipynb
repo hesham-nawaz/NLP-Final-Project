{
  "nbformat": 4,
  "nbformat_minor": 0,
  "metadata": {
    "colab": {
      "provenance": []
    },
    "kernelspec": {
      "name": "python3",
      "display_name": "Python 3"
    },
    "language_info": {
      "name": "python"
    }
  },
  "cells": [
    {
      "cell_type": "markdown",
      "source": [
        "# Characteristic Extraction"
      ],
      "metadata": {
        "id": "NFHzuu_oZ9KL"
      }
    },
    {
      "cell_type": "markdown",
      "source": [
        "## Preprocessing"
      ],
      "metadata": {
        "id": "C4gxOCm_aGXe"
      }
    },
    {
      "cell_type": "code",
      "execution_count": null,
      "metadata": {
        "id": "TKsJlVX1Zjxy"
      },
      "outputs": [],
      "source": [
        "# downloads stanford dependency parser\n",
        "!wget https://nlp.stanford.edu/software/stanford-corenlp-4.2.2.zip\n",
        "!wget https://nlp.stanford.edu/software/stanford-corenlp-4.2.2-models-english.jar\n",
        "!unzip /content/stanford-corenlp-4.2.2.zip"
      ]
    },
    {
      "cell_type": "code",
      "source": [
        "# loads stanford dependency parser into python\n",
        "from google.colab import drive\n",
        "drive.mount('/content/drive')\n",
        "\n",
        "from nltk.parse.stanford import StanfordDependencyParser\n",
        "jar_path = 'stanford-corenlp-4.2.2/stanford-corenlp-4.2.2.jar'\n",
        "models_jar_path = 'stanford-corenlp-4.2.2-models-english.jar'\n",
        "parser = StanfordDependencyParser(path_to_jar = jar_path, path_to_models_jar = models_jar_path)"
      ],
      "metadata": {
        "colab": {
          "base_uri": "https://localhost:8080/"
        },
        "id": "F8UW_ZVraOmN",
        "outputId": "57bd46b6-d517-46e9-85ba-18ee2c5e8f3e"
      },
      "execution_count": null,
      "outputs": [
        {
          "output_type": "stream",
          "name": "stdout",
          "text": [
            "Mounted at /content/drive\n"
          ]
        },
        {
          "output_type": "stream",
          "name": "stderr",
          "text": [
            "<ipython-input-3-90e071890ef9>:8: DeprecationWarning: The StanfordDependencyParser will be deprecated\n",
            "Please use \u001b[91mnltk.parse.corenlp.CoreNLPDependencyParser\u001b[0m instead.\n",
            "  parser = StanfordDependencyParser(path_to_jar = jar_path, path_to_models_jar = models_jar_path)\n"
          ]
        }
      ]
    },
    {
      "cell_type": "code",
      "source": [
        "def get_nouns(reviews):\n",
        "  '''\n",
        "  given a list of reviews for the same movie, \n",
        "  calculates dependency tree for each review \n",
        "  take all nouns that are either subject or objects\n",
        "  '''\n",
        "  nouns = set()\n",
        "  for idx, review in enumerate(reviews):\n",
        "    try:\n",
        "      result = parser.raw_parse(review)\n",
        "      dependency = result.__next__()    \n",
        "    except:\n",
        "      'error processing ' + str(idx) + '/' + str(len(reviews))\n",
        "      continue\n",
        "    for dep in list(dependency.triples()):\n",
        "      second, relation, first = dep \n",
        "      if relation == 'compound':\n",
        "        nouns.add((first[0] + ' ' + second[0]).lower())\n",
        "      elif (relation == 'nsubj' or relation == 'obj') and (first[1] == 'NN' or first[1] == 'NNS'):\n",
        "        nouns.add(first[0].lower())\n",
        "    print(str(idx + 1) + '/' + str(len(reviews)))\n",
        "          \n",
        "  return nouns"
      ],
      "metadata": {
        "id": "7zojK0xqciXD"
      },
      "execution_count": null,
      "outputs": []
    },
    {
      "cell_type": "code",
      "source": [
        "def filter_via_support(nouns, reviews):\n",
        "  '''\n",
        "  given a list of nouns, calculate support in all reviews\n",
        "  '''\n",
        "  support_map = {noun: 0 for noun in nouns}\n",
        "  for review in reviews:\n",
        "    for noun in nouns:\n",
        "      if noun in review:\n",
        "        support_map[noun] += 1.0 / len(reviews)\n",
        "\n",
        "  filtered_nouns = []\n",
        "  for noun in support_map:\n",
        "    if support_map[noun] > 0.1:\n",
        "      filtered_nouns.append(noun)\n",
        "\n",
        "  return filtered_nouns"
      ],
      "metadata": {
        "id": "RIjLlXgNeoFm"
      },
      "execution_count": null,
      "outputs": []
    },
    {
      "cell_type": "markdown",
      "source": [
        "# Summarization"
      ],
      "metadata": {
        "id": "GthHl3V4qJvS"
      }
    },
    {
      "cell_type": "code",
      "source": [
        "!pip install sentence-transformers"
      ],
      "metadata": {
        "id": "MlFMjNj9rzog"
      },
      "execution_count": null,
      "outputs": []
    },
    {
      "cell_type": "code",
      "source": [
        "import numpy as np\n",
        "import nltk\n",
        "from nltk.sentiment import SentimentIntensityAnalyzer\n",
        "from collections import defaultdict \n",
        "nltk.download('vader_lexicon')\n",
        "from sentence_transformers import SentenceTransformer\n",
        "sbert_model = SentenceTransformer('bert-base-nli-mean-tokens')"
      ],
      "metadata": {
        "id": "2c0O3KTSrwg8"
      },
      "execution_count": null,
      "outputs": []
    },
    {
      "cell_type": "code",
      "source": [
        "def get_facet_groups(nouns, reviews):\n",
        "  '''\n",
        "  get all reviews associated with characteristic noun\n",
        "  '''\n",
        "  reviews_map = defaultdict(set)\n",
        "  for noun in nouns:\n",
        "    for review in reviews:\n",
        "      if noun in review:\n",
        "        reviews_map[noun].add(review)\n",
        "  return reviews_map"
      ],
      "metadata": {
        "id": "gkOCjdGte29T"
      },
      "execution_count": null,
      "outputs": []
    },
    {
      "cell_type": "code",
      "source": [
        "def get_polarity_groups(reviews_map):\n",
        "  '''\n",
        "  given facet groups, split it into positive and negative groups\n",
        "  '''\n",
        "  SA = SentimentIntensityAnalyzer()\n",
        "\n",
        "  positive_groups = {}\n",
        "  negative_groups = {}\n",
        "\n",
        "  for noun in reviews_map:\n",
        "    positive_groups[noun] = []\n",
        "    negative_groups[noun] = []\n",
        "\n",
        "    for review in reviews_map[noun]:\n",
        "      polarity_score = SA.polarity_scores(review)\n",
        "      if polarity_score['compound'] > 0:\n",
        "        positive_groups[noun].append(review)\n",
        "      else:\n",
        "        negative_groups[noun].append(review)\n",
        "  \n",
        "  return positive_groups, negative_groups"
      ],
      "metadata": {
        "id": "0qATJ_QGqi4w"
      },
      "execution_count": null,
      "outputs": []
    },
    {
      "cell_type": "code",
      "source": [
        "# cosine similarity\n",
        "def sim(u, v):\n",
        "    return np.dot(u, v) / (np.linalg.norm(u) * np.linalg.norm(v))"
      ],
      "metadata": {
        "id": "Bp9fp62yrQ8C"
      },
      "execution_count": null,
      "outputs": []
    },
    {
      "cell_type": "code",
      "source": [
        "def find_representative_sentence(cluster):\n",
        "  '''\n",
        "  given a list of reviews corresponding to the same characteristic + sentiment\n",
        "  pick a representative sentence\n",
        "  '''\n",
        "  embeddings = sbert_model.encode(cluster)  \n",
        "\n",
        "  max_sim = 0\n",
        "  representative = ''\n",
        "\n",
        "  for idx, embed1 in enumerate(embeddings):\n",
        "    tot_sim = 0\n",
        "    for embed2 in embeddings:\n",
        "      tot_sim += sim(embed1, embed2)\n",
        "\n",
        "    if tot_sim > max_sim:\n",
        "      max_sim = tot_sim\n",
        "      representative = cluster[idx]\n",
        "  \n",
        "  return representative"
      ],
      "metadata": {
        "id": "d2jreJKErZUY"
      },
      "execution_count": null,
      "outputs": []
    },
    {
      "cell_type": "markdown",
      "source": [
        "#Generate Summaries"
      ],
      "metadata": {
        "id": "LS6_QX1wtj5A"
      }
    },
    {
      "cell_type": "code",
      "source": [
        "import csv\n",
        "from collections import defaultdict"
      ],
      "metadata": {
        "id": "ujWS9-zst9gd"
      },
      "execution_count": null,
      "outputs": []
    },
    {
      "cell_type": "code",
      "source": [
        "# some movies don't have ground truth critic review summary\n",
        "invalid_ids = set()\n",
        "with open('drive/MyDrive/rotten_tomatoes_movies.csv', 'r') as file2:\n",
        "  reader2 = csv.reader(file2)\n",
        "  for idx, row in enumerate(reader2):\n",
        "    if idx == 0:\n",
        "      continue\n",
        "    if len(row[3]) == 0:\n",
        "      invalid_ids.add(row[0])"
      ],
      "metadata": {
        "id": "tURqDb6S-kpT"
      },
      "execution_count": null,
      "outputs": []
    },
    {
      "cell_type": "code",
      "source": [
        "id_to_reviews = defaultdict(list) # map movie_id to all reviews associated with the movie\n",
        "ids_to_summarize = []\n",
        "\n",
        "# hyperparameters\n",
        "MAX_REVIEWS = 20\n",
        "NUM_MOVIES = 5\n",
        "\n",
        "with open('drive/MyDrive/rotten_tomatoes_critic_reviews.csv', 'r') as file:\n",
        "  reader = csv.reader(file)\n",
        "  for idx, row in enumerate(reader):\n",
        "    if idx == 0 or row[0] in invalid_ids:\n",
        "      continue \n",
        "    movie_id, review = row[0], row[-1]\n",
        "    id_to_reviews[movie_id].append(review)\n",
        "\n",
        "for movie_id in id_to_reviews:\n",
        "  if len(id_to_reviews[movie_id]) <= MAX_REVIEWS:\n",
        "    ids_to_summarize.append(movie_id)\n",
        "\n",
        "    if len(ids_to_summarize) > NUM_MOVIES:\n",
        "      break"
      ],
      "metadata": {
        "id": "TLMDx2mrtnmq"
      },
      "execution_count": null,
      "outputs": []
    },
    {
      "cell_type": "code",
      "source": [
        "# get initial nouns for each movie\n",
        "init_nouns = {}\n",
        "for movie_id in ids_to_summarize:\n",
        "  init_nouns[movie_id] = get_nouns(id_to_reviews[movie_id])\n",
        "\n",
        "print(init_nouns)"
      ],
      "metadata": {
        "colab": {
          "base_uri": "https://localhost:8080/"
        },
        "id": "JQl3kSovuyz8",
        "outputId": "28af04b9-8a3d-4e12-fb08-88719d6f2546"
      },
      "execution_count": null,
      "outputs": [
        {
          "output_type": "stream",
          "name": "stdout",
          "text": [
            "1/18\n",
            "2/18\n",
            "3/18\n",
            "4/18\n",
            "5/18\n",
            "6/18\n",
            "7/18\n",
            "8/18\n",
            "9/18\n",
            "10/18\n",
            "11/18\n",
            "12/18\n",
            "13/18\n",
            "14/18\n",
            "15/18\n",
            "16/18\n",
            "17/18\n",
            "0/10\n",
            "1/10\n",
            "2/10\n",
            "3/10\n",
            "4/10\n",
            "5/10\n",
            "6/10\n",
            "7/10\n",
            "8/10\n",
            "9/10\n",
            "1/5\n",
            "2/5\n",
            "3/5\n",
            "4/5\n",
            "0/20\n",
            "1/20\n",
            "2/20\n",
            "3/20\n",
            "4/20\n",
            "5/20\n",
            "6/20\n",
            "7/20\n",
            "8/20\n",
            "9/20\n",
            "10/20\n",
            "11/20\n",
            "12/20\n",
            "13/20\n",
            "14/20\n",
            "15/20\n",
            "16/20\n",
            "17/20\n",
            "18/20\n",
            "19/20\n",
            "0/19\n",
            "1/19\n",
            "8/19\n",
            "9/19\n",
            "10/19\n",
            "12/19\n",
            "13/19\n",
            "14/19\n",
            "15/19\n",
            "16/19\n",
            "17/19\n",
            "18/19\n",
            "6/13\n",
            "8/13\n",
            "9/13\n",
            "10/13\n",
            "11/13\n",
            "12/13\n",
            "{'m/10010131-scar': {'movie', 'porn industry', 'effects', 'torture movies', 'idea', 'mistake', 'kind event', 'gimmick', 'dreck', 'will', 'pacing', 'torture porn', 'porn', 'acting', 'perspecto effects', 'movie event', 'people', '3d', 'blades', 'character', 'identification', 'd porn', 'torture scenes', 'levels', 'excitement levels', 'kind', 'result', '3d movie', 'glasses', 'scenes', 'spoon', 'effort', 'floor', 'blood', 'rehash', 'technology', 'horror film', 'slasher movie', 'action feature', 'porn movies', 'halloween h20', 'industry'}, 'm/10010680-boogie': {'film making', 'mr lazarescu', '30 somethings', 'somethings', 'performances', 'story', 'radu muntean', 'edits', 'college days', 'film', 'romanian films', 'drama', 'family dynamic', 'chamber piece', 'look', 'heights', 'character study'}, 'm/10011857-high_life': {'high life', 'movie', 'direction', 'humour', 'time', 'film', 'edge', 'twisty plot', 'chances', 'plot'}, 'm/10012207-stolen': {'turmoil', 'shot', 'telephone touchpads', 'mystery thriller', 'film', 'talents', 'suspense', 'drama', 'textbook filmmaking', 'none', 'tragedy porn', 'stolen lives', 'mysteries', 'career', 'one', 'period trappings', 'canny career', 'redemption', 'time director', 'boil thriller', 'breathing room', 'anders anderson', 'don draper', 'murder mystery', 'plot', 'pretentious', 'close ups', 'room', 'story', 'slog one', 'hand', 'director anderson', 'vacation', 'half hour', 'thriller', 'justice', 'mystery', 'boy stolen', 'title', 'mr. hamm'}, 'm/1002947-bounty': {'hopkins perfomance', 'perfomance', 'captain bligh', 'adaptation', 'complexity', 'pacific ocean', 'film version', 'performance', 'star power', 'anything', 'adventure', 'de laurentiis', 'mutiny', 'charles laughton', 'fletcher christian', 'clark gable', 'appeal format', 'format', 'direction', 'hopkins performance', 'adventure saga', 'academy award', 'dino laurentiis', 'power'}, 'm/1003076-brians_song': {'sorrows', 'football teammates', 'james caan', 'tv eyewash', 'screen', 'eyewash', 'billy williams', 'dee williams', 'brian piccolo', 'gale sayers', 'fans', 'time sports', 'song', 'bears fans', 'example', 'job', 'emotions'}}\n"
          ]
        }
      ]
    },
    {
      "cell_type": "code",
      "source": [
        "pruned_nouns = {}\n",
        "for movie_id in ids_to_summarize:\n",
        "  pruned_nouns[movie_id] = filter_via_support(init_nouns[movie_id], id_to_reviews[movie_id])\n",
        "\n",
        "print(pruned_nouns)"
      ],
      "metadata": {
        "colab": {
          "base_uri": "https://localhost:8080/"
        },
        "id": "qveqyhF23W6G",
        "outputId": "0a658b9a-f075-43be-bb84-a74178c703db"
      },
      "execution_count": null,
      "outputs": [
        {
          "output_type": "stream",
          "name": "stdout",
          "text": [
            "{'m/10010131-scar': ['movie', 'torture porn', 'porn', 'acting', 'kind'], 'm/10010680-boogie': ['performances', 'story', 'film'], 'm/10011857-high_life': ['movie', 'direction', 'humour', 'time', 'film', 'edge', 'twisty plot', 'chances', 'plot'], 'm/10012207-stolen': ['film', 'one', 'thriller'], 'm/1002947-bounty': ['adventure', 'mutiny'], 'm/1003076-brians_song': []}\n"
          ]
        }
      ]
    },
    {
      "cell_type": "code",
      "source": [
        "facet_groups = {}\n",
        "for movie_id in ids_to_summarize:\n",
        "  facet_groups[movie_id] = get_facet_groups(pruned_nouns[movie_id], id_to_reviews[movie_id])\n",
        "print(facet_groups)"
      ],
      "metadata": {
        "colab": {
          "base_uri": "https://localhost:8080/"
        },
        "id": "Fja8pq-F4DWP",
        "outputId": "3ae246ff-8481-479a-cab7-9088261303c7"
      },
      "execution_count": null,
      "outputs": [
        {
          "output_type": "stream",
          "name": "stdout",
          "text": [
            "{'m/10010131-scar': defaultdict(<class 'set'>, {'movie': {\"To make a 3-D 'torture porn' movie is at best opportunist; to make one with flat, boring torture scenes is unforgivable.\", 'Run of the mill, largely predictable slasher movie that unfortunately squanders the 3D gimmick that could have made it interesting.', 'This boasts of being \"a first of its kind 3D movie event\", but it\\'s just the same old torture porn tarted up.', \"Despite it's technical savvy, this pans out as merely the latest in the dispiriting procession of torture porn movies while the dreary identification of the perp doesn't raise the excitement levels much higher than a half-hearted game of Cluedo.\"}, 'torture porn': {\"Despite it's technical savvy, this pans out as merely the latest in the dispiriting procession of torture porn movies while the dreary identification of the perp doesn't raise the excitement levels much higher than a half-hearted game of Cluedo.\", \"Scar is a generic slasher; even it seems jaded with the 'torture porn' bandwagon onto which it leaps, ultimately feeling like WAZ for dummies.\", 'This kind of torture porn is beyond bad taste.', 'This boasts of being \"a first of its kind 3D movie event\", but it\\'s just the same old torture porn tarted up.', \"To make a 3-D 'torture porn' movie is at best opportunist; to make one with flat, boring torture scenes is unforgivable.\"}, 'porn': {\"Despite it's technical savvy, this pans out as merely the latest in the dispiriting procession of torture porn movies while the dreary identification of the perp doesn't raise the excitement levels much higher than a half-hearted game of Cluedo.\", \"Scar is a generic slasher; even it seems jaded with the 'torture porn' bandwagon onto which it leaps, ultimately feeling like WAZ for dummies.\", \"The sole high point? 3D tits. The porn industry is going to love this technology, presuming you don't mind wearing stupid dark glasses while masturbating.\", 'This kind of torture porn is beyond bad taste.', 'This boasts of being \"a first of its kind 3D movie event\", but it\\'s just the same old torture porn tarted up.', \"To make a 3-D 'torture porn' movie is at best opportunist; to make one with flat, boring torture scenes is unforgivable.\"}, 'acting': {\"The acting is more wooden than the numerous coffins, the plot a rehash of any crazed serial killer flick you care to mention, with extra torture. It's unremittingly nasty stuff.\", \"Despite the killer's slavering way with a scalpel, there's no blood spurting out into your near-vision, just a lot of hopeless acting in your face.\"}, 'kind': {'This boasts of being \"a first of its kind 3D movie event\", but it\\'s just the same old torture porn tarted up.', 'This kind of torture porn is beyond bad taste.'}}), 'm/10010680-boogie': defaultdict(<class 'set'>, {'performances': {'Hampered by pacing that borders on glacial, the performances infuse the story with lingering melancholy.', 'Naturalistic performances, long takes, unfussy edits and a story that unfolds over a few hours are all present and correct.'}, 'story': {'Hampered by pacing that borders on glacial, the performances infuse the story with lingering melancholy.', 'Naturalistic performances, long takes, unfussy edits and a story that unfolds over a few hours are all present and correct.'}, 'film': {'The film remains dour, truthful, grimly droll.', 'It may not scale the heights of the best recent Romanian films (4 Months, 3 Weeks & 2 Days, The Death Of Mr Lazarescu) but Boogie is still a bittersweet character study.', \"This is superior film-making, equally comfortable with the light (Boogie's obvious delight in his nipper and the realistic family dynamic) to the dark (his risibly macho deceipt with a jolly hooker).\"}}), 'm/10011857-high_life': defaultdict(<class 'set'>, {'movie': {\"So, finally, deciding whether or not to see this movie boils down to one simple thing. If you didn't see it on stage, chances are you'll have a good-enough time.\"}, 'direction': {\"The plot gets twisted but the direction by Yates never does. He finds the humour in a desperate situation. It's hard to hate or even despise Dick and his stooges, because you can sense how needy they are.\"}, 'humour': {\"The plot gets twisted but the direction by Yates never does. He finds the humour in a desperate situation. It's hard to hate or even despise Dick and his stooges, because you can sense how needy they are.\"}, 'time': {\"So, finally, deciding whether or not to see this movie boils down to one simple thing. If you didn't see it on stage, chances are you'll have a good-enough time.\"}, 'film': {'This witty film wins us over with its likeable-loser characters and twisty plot. It also has an intriguingly serious edge'}, 'edge': {'This witty film wins us over with its likeable-loser characters and twisty plot. It also has an intriguingly serious edge'}, 'twisty plot': {'This witty film wins us over with its likeable-loser characters and twisty plot. It also has an intriguingly serious edge'}, 'chances': {\"So, finally, deciding whether or not to see this movie boils down to one simple thing. If you didn't see it on stage, chances are you'll have a good-enough time.\"}, 'plot': {'This witty film wins us over with its likeable-loser characters and twisty plot. It also has an intriguingly serious edge', \"The plot gets twisted but the direction by Yates never does. He finds the humour in a desperate situation. It's hard to hate or even despise Dick and his stooges, because you can sense how needy they are.\"}}), 'm/10012207-stolen': defaultdict(<class 'set'>, {'film': {'A technically polished thriller marred by textbook filmmaking that grows increasingly dull as the plot wears on.', 'None of the actors make much of an impression in Stolen. But then, neither does the film itself.', 'Stolen reveals a filmmaking hand in need of a considerable amount of seasoning.'}, 'one': {'None of the actors make much of an impression in Stolen. But then, neither does the film itself.', 'In the lead-up to the inevitable connection, Anderson builds suspense around innumerable close-ups of telephone touchpads, liquids being spilled, [and] Lucas straining to be a credible hayseed.', 'No one is able to make much of the disposable script, but Hamm is so limited by the period trappings that it seems as if he simply wandered onto the wrong set.', \"Unvarying in tone and style, it's a rough slog.\", 'Every bit the unpleasant slog one might expect, glum and murkily shot, wallowing in pedantic histrionics and badly lacking the breathing room it desperately needs.'}, 'thriller': {'A technically polished thriller marred by textbook filmmaking that grows increasingly dull as the plot wears on.', 'The low-boil mystery-thriller Stolen was once known as The Boy In The Box and then Stolen Lives, but now has a title as nondescript as its contents.', 'Two missing children stories are combined to less than compelling effect in this sluggish thriller.', \"Anders Anderson's thriller struggles to intertwine the two mysteries and ends up doing justice to neither.\"}}), 'm/1002947-bounty': defaultdict(<class 'set'>, {'adventure': {'An intricate layered character study and colorful adventure saga.', 'Hopkins brilliant perfomance adds complexity to Captain Bligh, and this intense and intelligent historical adventure is the third and best film version of the famous mutiny.', 'A great adventure, a lush romance, and a good movie.'}, 'mutiny': {\"An intelligent, firstrate, revisionist telling of the famous tale of Fletcher Christian's mutiny against Captain Bligh.\", 'Hopkins brilliant perfomance adds complexity to Captain Bligh, and this intense and intelligent historical adventure is the third and best film version of the famous mutiny.', 'While no match for the revered classic that earned the Best Picture Academy Award for 1935 (Mutiny on the Bounty, starring Clark Gable and Charles Laughton), this is an intelligent retelling that relates the historic mutiny through an altered prism.'}}), 'm/1003076-brians_song': defaultdict(<class 'set'>, {})}\n"
          ]
        }
      ]
    },
    {
      "cell_type": "code",
      "source": [
        "generated_summaries = []\n",
        "\n",
        "for movie_id in ids_to_summarize:\n",
        "  pos, neg = get_polarity_groups(facet_groups[movie_id])\n",
        "  summary = ''\n",
        "  for noun in pos:\n",
        "    summary += noun + '\\n'\n",
        "\n",
        "    pos_rep = find_representative_sentence(pos[noun])\n",
        "    neg_rep = find_representative_sentence(neg[noun])\n",
        "    \n",
        "    if len(pos_rep) > 0:\n",
        "      summary += pos_rep + '\\n'\n",
        "    if len(neg_rep) > 0:\n",
        "      summary += neg_rep + '\\n'\n",
        "\n",
        "    summary += '\\n'\n",
        "\n",
        "  generated_summaries.append(summary)\n",
        "\n",
        "for summary in generated_summaries:\n",
        "  print(summary)"
      ],
      "metadata": {
        "colab": {
          "base_uri": "https://localhost:8080/"
        },
        "id": "Mv6jyRtQ4Y0a",
        "outputId": "d1da278e-aa90-4ea3-e324-fe7c0d17f748"
      },
      "execution_count": null,
      "outputs": [
        {
          "output_type": "stream",
          "name": "stdout",
          "text": [
            "movie\n",
            "Run of the mill, largely predictable slasher movie that unfortunately squanders the 3D gimmick that could have made it interesting.\n",
            "Despite it's technical savvy, this pans out as merely the latest in the dispiriting procession of torture porn movies while the dreary identification of the perp doesn't raise the excitement levels much higher than a half-hearted game of Cluedo.\n",
            "\n",
            "torture porn\n",
            "Despite it's technical savvy, this pans out as merely the latest in the dispiriting procession of torture porn movies while the dreary identification of the perp doesn't raise the excitement levels much higher than a half-hearted game of Cluedo.\n",
            "\n",
            "porn\n",
            "The sole high point? 3D tits. The porn industry is going to love this technology, presuming you don't mind wearing stupid dark glasses while masturbating.\n",
            "Despite it's technical savvy, this pans out as merely the latest in the dispiriting procession of torture porn movies while the dreary identification of the perp doesn't raise the excitement levels much higher than a half-hearted game of Cluedo.\n",
            "\n",
            "acting\n",
            "Despite the killer's slavering way with a scalpel, there's no blood spurting out into your near-vision, just a lot of hopeless acting in your face.\n",
            "\n",
            "kind\n",
            "This boasts of being \"a first of its kind 3D movie event\", but it's just the same old torture porn tarted up.\n",
            "\n",
            "\n",
            "performances\n",
            "Hampered by pacing that borders on glacial, the performances infuse the story with lingering melancholy.\n",
            "\n",
            "story\n",
            "Hampered by pacing that borders on glacial, the performances infuse the story with lingering melancholy.\n",
            "\n",
            "film\n",
            "This is superior film-making, equally comfortable with the light (Boogie's obvious delight in his nipper and the realistic family dynamic) to the dark (his risibly macho deceipt with a jolly hooker).\n",
            "It may not scale the heights of the best recent Romanian films (4 Months, 3 Weeks & 2 Days, The Death Of Mr Lazarescu) but Boogie is still a bittersweet character study.\n",
            "\n",
            "\n",
            "movie\n",
            "So, finally, deciding whether or not to see this movie boils down to one simple thing. If you didn't see it on stage, chances are you'll have a good-enough time.\n",
            "\n",
            "direction\n",
            "The plot gets twisted but the direction by Yates never does. He finds the humour in a desperate situation. It's hard to hate or even despise Dick and his stooges, because you can sense how needy they are.\n",
            "\n",
            "humour\n",
            "The plot gets twisted but the direction by Yates never does. He finds the humour in a desperate situation. It's hard to hate or even despise Dick and his stooges, because you can sense how needy they are.\n",
            "\n",
            "time\n",
            "So, finally, deciding whether or not to see this movie boils down to one simple thing. If you didn't see it on stage, chances are you'll have a good-enough time.\n",
            "\n",
            "film\n",
            "This witty film wins us over with its likeable-loser characters and twisty plot. It also has an intriguingly serious edge\n",
            "\n",
            "edge\n",
            "This witty film wins us over with its likeable-loser characters and twisty plot. It also has an intriguingly serious edge\n",
            "\n",
            "twisty plot\n",
            "This witty film wins us over with its likeable-loser characters and twisty plot. It also has an intriguingly serious edge\n",
            "\n",
            "chances\n",
            "So, finally, deciding whether or not to see this movie boils down to one simple thing. If you didn't see it on stage, chances are you'll have a good-enough time.\n",
            "\n",
            "plot\n",
            "This witty film wins us over with its likeable-loser characters and twisty plot. It also has an intriguingly serious edge\n",
            "The plot gets twisted but the direction by Yates never does. He finds the humour in a desperate situation. It's hard to hate or even despise Dick and his stooges, because you can sense how needy they are.\n",
            "\n",
            "\n",
            "film\n",
            "A technically polished thriller marred by textbook filmmaking that grows increasingly dull as the plot wears on.\n",
            "\n",
            "one\n",
            "Every bit the unpleasant slog one might expect, glum and murkily shot, wallowing in pedantic histrionics and badly lacking the breathing room it desperately needs.\n",
            "\n",
            "thriller\n",
            "Anders Anderson's thriller struggles to intertwine the two mysteries and ends up doing justice to neither.\n",
            "Two missing children stories are combined to less than compelling effect in this sluggish thriller.\n",
            "\n",
            "\n",
            "adventure\n",
            "A great adventure, a lush romance, and a good movie.\n",
            "\n",
            "mutiny\n",
            "Hopkins brilliant perfomance adds complexity to Captain Bligh, and this intense and intelligent historical adventure is the third and best film version of the famous mutiny.\n",
            "\n",
            "\n",
            "\n"
          ]
        }
      ]
    },
    {
      "cell_type": "code",
      "source": [
        "print(ids_to_summarize)"
      ],
      "metadata": {
        "colab": {
          "base_uri": "https://localhost:8080/"
        },
        "id": "Po3OxeDv9sJx",
        "outputId": "9ec0e484-83c2-4872-d1f2-3c21cdf53003"
      },
      "execution_count": null,
      "outputs": [
        {
          "output_type": "stream",
          "name": "stdout",
          "text": [
            "['m/10002008-charly', 'm/1000204-abraham_lincoln', 'm/10002114-dark_water', 'm/10002519-breaking_point', 'm/10002673-prowler', 'm/1000334-adventures_of_mark_twain']\n"
          ]
        }
      ]
    },
    {
      "cell_type": "code",
      "source": [
        "summary_truths = []\n",
        "id_set = set(ids_to_summarize)\n",
        "with open('drive/MyDrive/rotten_tomatoes_movies.csv', 'r') as file2:\n",
        "  reader2 = csv.reader(file2)\n",
        "  for idx, row in enumerate(reader2):\n",
        "    if idx == 0:\n",
        "      continue\n",
        "    if row[0] in id_set:     \n",
        "      summary_truths.append(row[2])"
      ],
      "metadata": {
        "id": "Bv1kDjAM6dxd"
      },
      "execution_count": null,
      "outputs": []
    },
    {
      "cell_type": "code",
      "source": [
        "for i in range(len(summary_truths)):\n",
        "  print('-------------------------------------------------')\n",
        "  print(generated_summaries[i])\n",
        "  print('----------')\n",
        "  print(summary_truths[i])\n",
        "  print('-------------------------------------------------')"
      ],
      "metadata": {
        "colab": {
          "base_uri": "https://localhost:8080/"
        },
        "id": "52e6J-gQ8eSp",
        "outputId": "101b9d5f-decf-428a-adb2-812e54f22ac2"
      },
      "execution_count": null,
      "outputs": [
        {
          "output_type": "stream",
          "name": "stdout",
          "text": [
            "-------------------------------------------------\n",
            "movie\n",
            "Run of the mill, largely predictable slasher movie that unfortunately squanders the 3D gimmick that could have made it interesting.\n",
            "Despite it's technical savvy, this pans out as merely the latest in the dispiriting procession of torture porn movies while the dreary identification of the perp doesn't raise the excitement levels much higher than a half-hearted game of Cluedo.\n",
            "\n",
            "torture porn\n",
            "Despite it's technical savvy, this pans out as merely the latest in the dispiriting procession of torture porn movies while the dreary identification of the perp doesn't raise the excitement levels much higher than a half-hearted game of Cluedo.\n",
            "\n",
            "porn\n",
            "The sole high point? 3D tits. The porn industry is going to love this technology, presuming you don't mind wearing stupid dark glasses while masturbating.\n",
            "Despite it's technical savvy, this pans out as merely the latest in the dispiriting procession of torture porn movies while the dreary identification of the perp doesn't raise the excitement levels much higher than a half-hearted game of Cluedo.\n",
            "\n",
            "acting\n",
            "Despite the killer's slavering way with a scalpel, there's no blood spurting out into your near-vision, just a lot of hopeless acting in your face.\n",
            "\n",
            "kind\n",
            "This boasts of being \"a first of its kind 3D movie event\", but it's just the same old torture porn tarted up.\n",
            "\n",
            "\n",
            "----------\n",
            "A woman's (Angela Bettis) old demons come roaring to the surface when her niece and several other hapless teens encounter a slasher.\n",
            "-------------------------------------------------\n",
            "-------------------------------------------------\n",
            "performances\n",
            "Hampered by pacing that borders on glacial, the performances infuse the story with lingering melancholy.\n",
            "\n",
            "story\n",
            "Hampered by pacing that borders on glacial, the performances infuse the story with lingering melancholy.\n",
            "\n",
            "film\n",
            "This is superior film-making, equally comfortable with the light (Boogie's obvious delight in his nipper and the realistic family dynamic) to the dark (his risibly macho deceipt with a jolly hooker).\n",
            "It may not scale the heights of the best recent Romanian films (4 Months, 3 Weeks & 2 Days, The Death Of Mr Lazarescu) but Boogie is still a bittersweet character study.\n",
            "\n",
            "\n",
            "----------\n",
            "A family man (Dragos Bucur) relives his carefree years when he reunites with two friends.\n",
            "-------------------------------------------------\n",
            "-------------------------------------------------\n",
            "movie\n",
            "So, finally, deciding whether or not to see this movie boils down to one simple thing. If you didn't see it on stage, chances are you'll have a good-enough time.\n",
            "\n",
            "direction\n",
            "The plot gets twisted but the direction by Yates never does. He finds the humour in a desperate situation. It's hard to hate or even despise Dick and his stooges, because you can sense how needy they are.\n",
            "\n",
            "humour\n",
            "The plot gets twisted but the direction by Yates never does. He finds the humour in a desperate situation. It's hard to hate or even despise Dick and his stooges, because you can sense how needy they are.\n",
            "\n",
            "time\n",
            "So, finally, deciding whether or not to see this movie boils down to one simple thing. If you didn't see it on stage, chances are you'll have a good-enough time.\n",
            "\n",
            "film\n",
            "This witty film wins us over with its likeable-loser characters and twisty plot. It also has an intriguingly serious edge\n",
            "\n",
            "edge\n",
            "This witty film wins us over with its likeable-loser characters and twisty plot. It also has an intriguingly serious edge\n",
            "\n",
            "twisty plot\n",
            "This witty film wins us over with its likeable-loser characters and twisty plot. It also has an intriguingly serious edge\n",
            "\n",
            "chances\n",
            "So, finally, deciding whether or not to see this movie boils down to one simple thing. If you didn't see it on stage, chances are you'll have a good-enough time.\n",
            "\n",
            "plot\n",
            "This witty film wins us over with its likeable-loser characters and twisty plot. It also has an intriguingly serious edge\n",
            "The plot gets twisted but the direction by Yates never does. He finds the humour in a desperate situation. It's hard to hate or even despise Dick and his stooges, because you can sense how needy they are.\n",
            "\n",
            "\n",
            "----------\n",
            "Dick (Timothy Olyphant) gets a surprise visit from his former cellmate Bug (Stephen Eric McIntyre) and they plan a bank robbery that has little chance of succeeding.\n",
            "-------------------------------------------------\n",
            "-------------------------------------------------\n",
            "film\n",
            "A technically polished thriller marred by textbook filmmaking that grows increasingly dull as the plot wears on.\n",
            "\n",
            "one\n",
            "Every bit the unpleasant slog one might expect, glum and murkily shot, wallowing in pedantic histrionics and badly lacking the breathing room it desperately needs.\n",
            "\n",
            "thriller\n",
            "Anders Anderson's thriller struggles to intertwine the two mysteries and ends up doing justice to neither.\n",
            "Two missing children stories are combined to less than compelling effect in this sluggish thriller.\n",
            "\n",
            "\n",
            "----------\n",
            "A detective (Jon Hamm) becomes obsessed with solving a child's 50-year-old murder, uncovering striking similarities between the case and his son's disappearance.\n",
            "-------------------------------------------------\n",
            "-------------------------------------------------\n",
            "adventure\n",
            "A great adventure, a lush romance, and a good movie.\n",
            "\n",
            "mutiny\n",
            "Hopkins brilliant perfomance adds complexity to Captain Bligh, and this intense and intelligent historical adventure is the third and best film version of the famous mutiny.\n",
            "\n",
            "\n",
            "----------\n",
            "Captain Bligh (Anthony Hopkins) struggles to restore discipline among the crew of the HMS Bounty after the ship has an extended furlough in Tahiti. After the captain doles out floggings and other physical punishments, the crew mutinies, led by Bligh's former close friend, Fletcher Christian (Mel Gibson). Unable to return to their tropical paradise, the mutineers find themselves stranded, while Bligh and his faithful crew members embark on a dangerous journey to the Dutch East Indies.\n",
            "-------------------------------------------------\n",
            "-------------------------------------------------\n",
            "\n",
            "----------\n",
            "Brian Piccolo (James Caan) and Gale Sayers (Billy Dee Williams) are teammates on the mid-1960s Chicago Bears. At a time when professional football still bears a certain amount of race-based segregation, the growing friendship between the white Piccolo and the black Sayers, as well as their wives, Joy (Shelley Fabares) and Linda (Judy Pace), becomes a symbol of harmony during the civil rights era. That bond grows stronger still when Piccolo receives some shattering and unexpected news.\n",
            "-------------------------------------------------\n"
          ]
        }
      ]
    },
    {
      "cell_type": "markdown",
      "source": [
        "#Evaluation"
      ],
      "metadata": {
        "id": "xORCPWaD8Lxq"
      }
    },
    {
      "cell_type": "code",
      "source": [
        "!pip install rouge-score\n",
        "!pip install matplotlib"
      ],
      "metadata": {
        "colab": {
          "base_uri": "https://localhost:8080/"
        },
        "id": "klX4tKyz7VDr",
        "outputId": "63ad3318-89c4-476c-b67c-ba1735600a42"
      },
      "execution_count": null,
      "outputs": [
        {
          "output_type": "stream",
          "name": "stdout",
          "text": [
            "Looking in indexes: https://pypi.org/simple, https://us-python.pkg.dev/colab-wheels/public/simple/\n",
            "Requirement already satisfied: rouge-score in /usr/local/lib/python3.8/dist-packages (0.1.2)\n",
            "Requirement already satisfied: numpy in /usr/local/lib/python3.8/dist-packages (from rouge-score) (1.21.6)\n",
            "Requirement already satisfied: six>=1.14.0 in /usr/local/lib/python3.8/dist-packages (from rouge-score) (1.15.0)\n",
            "Requirement already satisfied: absl-py in /usr/local/lib/python3.8/dist-packages (from rouge-score) (1.3.0)\n",
            "Requirement already satisfied: nltk in /usr/local/lib/python3.8/dist-packages (from rouge-score) (3.7)\n",
            "Requirement already satisfied: joblib in /usr/local/lib/python3.8/dist-packages (from nltk->rouge-score) (1.2.0)\n",
            "Requirement already satisfied: regex>=2021.8.3 in /usr/local/lib/python3.8/dist-packages (from nltk->rouge-score) (2022.6.2)\n",
            "Requirement already satisfied: tqdm in /usr/local/lib/python3.8/dist-packages (from nltk->rouge-score) (4.64.1)\n",
            "Requirement already satisfied: click in /usr/local/lib/python3.8/dist-packages (from nltk->rouge-score) (7.1.2)\n",
            "Looking in indexes: https://pypi.org/simple, https://us-python.pkg.dev/colab-wheels/public/simple/\n",
            "Requirement already satisfied: matplotlib in /usr/local/lib/python3.8/dist-packages (3.2.2)\n",
            "Requirement already satisfied: pyparsing!=2.0.4,!=2.1.2,!=2.1.6,>=2.0.1 in /usr/local/lib/python3.8/dist-packages (from matplotlib) (3.0.9)\n",
            "Requirement already satisfied: cycler>=0.10 in /usr/local/lib/python3.8/dist-packages (from matplotlib) (0.11.0)\n",
            "Requirement already satisfied: kiwisolver>=1.0.1 in /usr/local/lib/python3.8/dist-packages (from matplotlib) (1.4.4)\n",
            "Requirement already satisfied: numpy>=1.11 in /usr/local/lib/python3.8/dist-packages (from matplotlib) (1.21.6)\n",
            "Requirement already satisfied: python-dateutil>=2.1 in /usr/local/lib/python3.8/dist-packages (from matplotlib) (2.8.2)\n",
            "Requirement already satisfied: six>=1.5 in /usr/local/lib/python3.8/dist-packages (from python-dateutil>=2.1->matplotlib) (1.15.0)\n"
          ]
        }
      ]
    },
    {
      "cell_type": "code",
      "source": [
        "from rouge_score import rouge_scorer\n",
        "scorer = rouge_scorer.RougeScorer(['rouge1', 'rouge2'], use_stemmer=True)\n",
        "\n",
        "num_of_iterations = len(summary_truths) - 1\n",
        "all_rouges_1_scores = []\n",
        "all_rouges_2_scores = []\n",
        "for i in range(num_of_iterations):\n",
        "    all_scores_obj = scorer.score(generated_summaries[i], summary_truths[i])\n",
        "    all_rouges_1_scores.append(all_scores_obj[\"rouge1\"])\n",
        "    all_rouges_2_scores.append(all_scores_obj[\"rouge2\"])\n"
      ],
      "metadata": {
        "id": "aSzy6HdT67Ar"
      },
      "execution_count": null,
      "outputs": []
    },
    {
      "cell_type": "code",
      "source": [
        "rouge_1_precisions = []\n",
        "rouge_1_recall = []\n",
        "rouge_1_f1 = []\n",
        "for each_rouge_1_score in all_rouges_1_scores:\n",
        "    rouge_1_precisions.append(each_rouge_1_score.precision)\n",
        "    rouge_1_recall.append(each_rouge_1_score.recall)\n",
        "    rouge_1_f1.append(each_rouge_1_score.fmeasure)"
      ],
      "metadata": {
        "id": "tCAbFm1Z7suI"
      },
      "execution_count": null,
      "outputs": []
    },
    {
      "cell_type": "code",
      "source": [
        "avg_rouge_1_precision_score = np.average(rouge_1_precisions)\n",
        "avg_rouge_1_recall_score = np.average(rouge_1_recall)\n",
        "avg_rouge_1_f1_score = np.average(rouge_1_f1)\n",
        "\n",
        "print(f'The average precision value for the rouge 1 scores is {avg_rouge_1_precision_score}')\n",
        "print(f'The average recall value for the rouge 1 scores is {avg_rouge_1_recall_score}')\n",
        "print(f'The average f1 value for the rouge 1 scores is {avg_rouge_1_f1_score}')\n"
      ],
      "metadata": {
        "colab": {
          "base_uri": "https://localhost:8080/"
        },
        "id": "5Al_8rvf7xlX",
        "outputId": "48333d59-6cc5-4cf8-ba76-ef46a360b2b5"
      },
      "execution_count": null,
      "outputs": [
        {
          "output_type": "stream",
          "name": "stdout",
          "text": [
            "The average precision value for the rouge 1 scores is 0.24021022455805063\n",
            "The average recall value for the rouge 1 scores is 0.08845175864293518\n",
            "The average f1 value for the rouge 1 scores is 0.08987416812616944\n"
          ]
        }
      ]
    },
    {
      "cell_type": "code",
      "source": [
        "import matplotlib.pyplot as plt\n",
        "\n",
        "x_axis = range(num_of_iterations)\n",
        "\n",
        "plt.title(\"Rouge 1 Scores\")\n",
        "plt.xlabel(\"Movie Document Number\")\n",
        "plt.ylabel(\"Score Value\")\n",
        "plt.plot(x_axis, rouge_1_precisions, color =\"red\", label=\"Precision\")\n",
        "plt.plot(x_axis, rouge_1_recall, color =\"blue\", label= \"Recall\")\n",
        "plt.plot(x_axis, rouge_1_f1, color =\"orange\", label=\"F1\")\n",
        "\n",
        "plt.legend()\n",
        "plt.show()"
      ],
      "metadata": {
        "colab": {
          "base_uri": "https://localhost:8080/",
          "height": 295
        },
        "id": "49RREqTl749w",
        "outputId": "86cba995-2112-482a-89b3-2049876144d0"
      },
      "execution_count": null,
      "outputs": [
        {
          "output_type": "display_data",
          "data": {
            "text/plain": [
              "<Figure size 432x288 with 1 Axes>"
            ],
            "image/png": "[encoded data removed]"
          },
          "metadata": {
            "needs_background": "light"
          }
        }
      ]
    },
    {
      "cell_type": "code",
      "source": [
        "# building up metric results for Rouge 2\n",
        "\n",
        "rouge_2_precisions = []\n",
        "rouge_2_recall = []\n",
        "rouge_2_f1 = []\n",
        "for each_rouge_2_score in all_rouges_2_scores:\n",
        "    rouge_2_precisions.append(each_rouge_2_score.precision)\n",
        "    rouge_2_recall.append(each_rouge_2_score.recall)\n",
        "    rouge_2_f1.append(each_rouge_2_score.fmeasure)\n"
      ],
      "metadata": {
        "id": "-8iTthsq8Q0K"
      },
      "execution_count": null,
      "outputs": []
    },
    {
      "cell_type": "code",
      "source": [
        "# analyzing rouge 2 results\n",
        "\n",
        "avg_rouge_2_precision_score = np.average(rouge_2_precisions)\n",
        "avg_rouge_2_recall_score = np.average(rouge_2_recall)\n",
        "avg_rouge_2_f1_score = np.average(rouge_2_f1)\n",
        "\n",
        "print(f'The average precision value for the rouge 2 scores is {avg_rouge_2_precision_score}')\n",
        "print(f'The average recall value for the rouge 2 scores is {avg_rouge_2_recall_score}')\n",
        "print(f'The average f1 value for the rouge 2 scores is {avg_rouge_2_f1_score}')\n",
        "\n"
      ],
      "metadata": {
        "colab": {
          "base_uri": "https://localhost:8080/"
        },
        "id": "LR3p2Pqz8YyC",
        "outputId": "2ee73b31-a798-4a83-adca-2fdfec58b26a"
      },
      "execution_count": null,
      "outputs": [
        {
          "output_type": "stream",
          "name": "stdout",
          "text": [
            "The average precision value for the rouge 2 scores is 0.007894736842105263\n",
            "The average recall value for the rouge 2 scores is 0.016216216216216217\n",
            "The average f1 value for the rouge 2 scores is 0.010619469026548672\n"
          ]
        }
      ]
    },
    {
      "cell_type": "code",
      "source": [
        "# graping rouge 2 metrics\n",
        "\n",
        "x_axis = range(num_of_iterations)\n",
        "\n",
        "plt.title(\"Rouge 2 Scores\")\n",
        "plt.xlabel(\"Movie Document Number\")\n",
        "plt.ylabel(\"Score Value\")\n",
        "plt.plot(x_axis, rouge_2_precisions, color =\"red\", label=\"Precision\")\n",
        "plt.plot(x_axis, rouge_2_recall, color =\"blue\", label= \"Recall\")\n",
        "plt.plot(x_axis, rouge_2_f1, color =\"orange\", label=\"F1\")\n",
        "\n",
        "plt.legend()\n",
        "plt.show()"
      ],
      "metadata": {
        "colab": {
          "base_uri": "https://localhost:8080/",
          "height": 295
        },
        "id": "9A0Femx-8avR",
        "outputId": "486f5b80-5d08-4f01-a4aa-81e79406e77e"
      },
      "execution_count": null,
      "outputs": [
        {
          "output_type": "display_data",
          "data": {
            "text/plain": [
              "<Figure size 432x288 with 1 Axes>"
            ],
            "image/png": "[encoded data removed]"
          },
          "metadata": {
            "needs_background": "light"
          }
        }
      ]
    }
  ]
}